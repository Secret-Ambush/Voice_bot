{
 "cells": [
  {
   "cell_type": "markdown",
   "metadata": {},
   "source": [
    "---\n",
    "\n",
    "# Voice-Controlled Robot\n",
    "\n",
    "This Python script demonstrates how to create a voice-controlled robot using the ROS (Robot Operating System) framework. The robot receives audio input, converts it to text using speech recognition, and then executes corresponding motion commands based on the recognized text.\n",
    "\n",
    "## Prerequisites\n",
    "\n",
    "Before running this code, ensure that you have the following components and libraries installed:\n",
    "\n",
    "- ROS (Robot Operating System): This code is designed to work within the ROS ecosystem.\n",
    "- Python: The code is written in Python.\n",
    "- `rospy`: This is a Python client library for ROS.\n",
    "- `std_msgs.msg`: This module is used to work with standard ROS message types.\n",
    "- `speech_recognition`: This library is used for speech recognition.\n",
    "- `geometry_msgs.msg`: This module contains message types related to robot motion.\n",
    "\n",
    "## Code Overview\n",
    "\n",
    "The code consists of several parts:\n",
    "\n",
    "1. **Imports**: Import the necessary ROS and Python libraries and message types.\n",
    "\n",
    "2. **Global Variables**: Define global variables, including the `motion_command` variable, which holds the robot's motion command, and the `motion_publisher` variable, which is used to publish motion commands to the robot.\n",
    "\n",
    "3. **`speech_to_text_callback` Function**: This function is a callback for processing audio data received from the `/audio` topic. It uses the `speech_recognition` library to convert the audio data to text and then calls the `process_voice_command` function.\n",
    "\n",
    "4. **`process_voice_command` Function**: This function takes the recognized text as input and processes it to determine the robot's action. Depending on the recognized text, it sets the `motion_command` variable to control the robot's motion (left, right, or straight) and publishes the motion command.\n",
    "\n",
    "5. **`stop_robot` Function**: This function is responsible for stopping the robot's motion. It sets both linear and angular velocities to zero and publishes the stop command.\n",
    "\n",
    "6. **Main Section**: In the main section, the ROS node is initialized, a subscriber is created to listen to the `/audio` topic, and a publisher is created to send motion commands to the `/cmd_vel` topic. The script then enters the ROS spin loop to handle incoming messages.\n",
    "\n",
    "## Usage\n",
    "\n",
    "To use this code, you should have a microphone connected to your robot. When you run the script, it will subscribe to the `/audio` topic, listen for voice commands, recognize them, and move the robot accordingly.\n",
    "\n",
    "## Commands\n",
    "\n",
    "- Saying \"left\" will rotate the robot to the left.\n",
    "- Saying \"right\" will rotate the robot to the right.\n",
    "- Saying \"straight\" will make the robot move forward.\n",
    "\n",
    "Any unrecognized command will result in the robot stopping its motion.\n",
    "\n",
    "---\n",
    "\n",
    "This documentation provides an overview of how the code works and how to use it to create a voice-controlled robot within the ROS framework. Make sure to set up ROS correctly on your robot and install the required dependencies before running the code."
   ]
  },
  {
   "cell_type": "code",
   "execution_count": null,
   "metadata": {},
   "outputs": [],
   "source": []
  }
 ],
 "metadata": {
  "kernelspec": {
   "display_name": "Python 2",
   "language": "python",
   "name": "python2"
  },
  "language_info": {
   "codemirror_mode": {
    "name": "ipython",
    "version": 2
   },
   "file_extension": ".py",
   "mimetype": "text/x-python",
   "name": "python",
   "nbconvert_exporter": "python",
   "pygments_lexer": "ipython2",
   "version": "2.7.16"
  }
 },
 "nbformat": 4,
 "nbformat_minor": 1
}
